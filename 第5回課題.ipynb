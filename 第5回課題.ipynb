{
 "cells": [
  {
   "cell_type": "markdown",
   "metadata": {},
   "source": [
    "# 第5回課題\n",
    "第5回課題では，以下の項目を満たすように分析してください．\n",
    "\n",
    "明確な解答は用意していませんが，少なくとも間違っていないと言える推論をするようにしてください．\n",
    "\n",
    "- データの取得\n",
    "- データの確認\n",
    " - 特徴量の確認\n",
    " - ラベルの確認\n",
    "- 仮説を立てる\n",
    "- データの分析\n",
    "- モデルの訓練\n",
    "- 予測\n",
    "- 精度の確認\n",
    "- 仮説の確認"
   ]
  },
  {
   "cell_type": "markdown",
   "metadata": {},
   "source": [
    "# データの取得\n",
    "wine data 以外を利用してデータ分析してください．\n",
    "\n",
    "なるべく，ラベルと属性から推論が立てやすいデータを選択するとやりやすいです．"
   ]
  },
  {
   "cell_type": "code",
   "execution_count": 1,
   "metadata": {},
   "outputs": [],
   "source": [
    "import matplotlib.pyplot as plt\n",
    "import numpy as np\n",
    "import pandas as pd\n",
    "from sklearn.datasets import load_diabetes\n",
    "data_diabetes = load_diabetes()"
   ]
  },
  {
   "cell_type": "code",
   "execution_count": 2,
   "metadata": {
    "scrolled": false
   },
   "outputs": [],
   "source": [
    "X_all = pd.DataFrame(data_diabetes.data, columns=(\"age\", \"sex\", \"bmi\", \"map\", \"tc\", \"ldl\", \"hdl\", \"tch\", \"ltg\", \"glu\"))"
   ]
  },
  {
   "cell_type": "code",
   "execution_count": 3,
   "metadata": {},
   "outputs": [
    {
     "data": {
      "text/html": [
       "<div>\n",
       "<style scoped>\n",
       "    .dataframe tbody tr th:only-of-type {\n",
       "        vertical-align: middle;\n",
       "    }\n",
       "\n",
       "    .dataframe tbody tr th {\n",
       "        vertical-align: top;\n",
       "    }\n",
       "\n",
       "    .dataframe thead th {\n",
       "        text-align: right;\n",
       "    }\n",
       "</style>\n",
       "<table border=\"1\" class=\"dataframe\">\n",
       "  <thead>\n",
       "    <tr style=\"text-align: right;\">\n",
       "      <th></th>\n",
       "      <th>age</th>\n",
       "      <th>sex</th>\n",
       "      <th>bmi</th>\n",
       "      <th>map</th>\n",
       "      <th>tc</th>\n",
       "      <th>ldl</th>\n",
       "      <th>hdl</th>\n",
       "      <th>tch</th>\n",
       "      <th>ltg</th>\n",
       "      <th>glu</th>\n",
       "    </tr>\n",
       "  </thead>\n",
       "  <tbody>\n",
       "    <tr>\n",
       "      <th>count</th>\n",
       "      <td>4.420000e+02</td>\n",
       "      <td>4.420000e+02</td>\n",
       "      <td>4.420000e+02</td>\n",
       "      <td>4.420000e+02</td>\n",
       "      <td>4.420000e+02</td>\n",
       "      <td>4.420000e+02</td>\n",
       "      <td>4.420000e+02</td>\n",
       "      <td>4.420000e+02</td>\n",
       "      <td>4.420000e+02</td>\n",
       "      <td>4.420000e+02</td>\n",
       "    </tr>\n",
       "    <tr>\n",
       "      <th>mean</th>\n",
       "      <td>-3.634285e-16</td>\n",
       "      <td>1.308343e-16</td>\n",
       "      <td>-8.045349e-16</td>\n",
       "      <td>1.281655e-16</td>\n",
       "      <td>-8.835316e-17</td>\n",
       "      <td>1.327024e-16</td>\n",
       "      <td>-4.574646e-16</td>\n",
       "      <td>3.777301e-16</td>\n",
       "      <td>-3.830854e-16</td>\n",
       "      <td>-3.412882e-16</td>\n",
       "    </tr>\n",
       "    <tr>\n",
       "      <th>std</th>\n",
       "      <td>4.761905e-02</td>\n",
       "      <td>4.761905e-02</td>\n",
       "      <td>4.761905e-02</td>\n",
       "      <td>4.761905e-02</td>\n",
       "      <td>4.761905e-02</td>\n",
       "      <td>4.761905e-02</td>\n",
       "      <td>4.761905e-02</td>\n",
       "      <td>4.761905e-02</td>\n",
       "      <td>4.761905e-02</td>\n",
       "      <td>4.761905e-02</td>\n",
       "    </tr>\n",
       "    <tr>\n",
       "      <th>min</th>\n",
       "      <td>-1.072256e-01</td>\n",
       "      <td>-4.464164e-02</td>\n",
       "      <td>-9.027530e-02</td>\n",
       "      <td>-1.123996e-01</td>\n",
       "      <td>-1.267807e-01</td>\n",
       "      <td>-1.156131e-01</td>\n",
       "      <td>-1.023071e-01</td>\n",
       "      <td>-7.639450e-02</td>\n",
       "      <td>-1.260974e-01</td>\n",
       "      <td>-1.377672e-01</td>\n",
       "    </tr>\n",
       "    <tr>\n",
       "      <th>25%</th>\n",
       "      <td>-3.729927e-02</td>\n",
       "      <td>-4.464164e-02</td>\n",
       "      <td>-3.422907e-02</td>\n",
       "      <td>-3.665645e-02</td>\n",
       "      <td>-3.424784e-02</td>\n",
       "      <td>-3.035840e-02</td>\n",
       "      <td>-3.511716e-02</td>\n",
       "      <td>-3.949338e-02</td>\n",
       "      <td>-3.324879e-02</td>\n",
       "      <td>-3.317903e-02</td>\n",
       "    </tr>\n",
       "    <tr>\n",
       "      <th>50%</th>\n",
       "      <td>5.383060e-03</td>\n",
       "      <td>-4.464164e-02</td>\n",
       "      <td>-7.283766e-03</td>\n",
       "      <td>-5.670611e-03</td>\n",
       "      <td>-4.320866e-03</td>\n",
       "      <td>-3.819065e-03</td>\n",
       "      <td>-6.584468e-03</td>\n",
       "      <td>-2.592262e-03</td>\n",
       "      <td>-1.947634e-03</td>\n",
       "      <td>-1.077698e-03</td>\n",
       "    </tr>\n",
       "    <tr>\n",
       "      <th>75%</th>\n",
       "      <td>3.807591e-02</td>\n",
       "      <td>5.068012e-02</td>\n",
       "      <td>3.124802e-02</td>\n",
       "      <td>3.564384e-02</td>\n",
       "      <td>2.835801e-02</td>\n",
       "      <td>2.984439e-02</td>\n",
       "      <td>2.931150e-02</td>\n",
       "      <td>3.430886e-02</td>\n",
       "      <td>3.243323e-02</td>\n",
       "      <td>2.791705e-02</td>\n",
       "    </tr>\n",
       "    <tr>\n",
       "      <th>max</th>\n",
       "      <td>1.107267e-01</td>\n",
       "      <td>5.068012e-02</td>\n",
       "      <td>1.705552e-01</td>\n",
       "      <td>1.320442e-01</td>\n",
       "      <td>1.539137e-01</td>\n",
       "      <td>1.987880e-01</td>\n",
       "      <td>1.811791e-01</td>\n",
       "      <td>1.852344e-01</td>\n",
       "      <td>1.335990e-01</td>\n",
       "      <td>1.356118e-01</td>\n",
       "    </tr>\n",
       "  </tbody>\n",
       "</table>\n",
       "</div>"
      ],
      "text/plain": [
       "                age           sex           bmi           map            tc  \\\n",
       "count  4.420000e+02  4.420000e+02  4.420000e+02  4.420000e+02  4.420000e+02   \n",
       "mean  -3.634285e-16  1.308343e-16 -8.045349e-16  1.281655e-16 -8.835316e-17   \n",
       "std    4.761905e-02  4.761905e-02  4.761905e-02  4.761905e-02  4.761905e-02   \n",
       "min   -1.072256e-01 -4.464164e-02 -9.027530e-02 -1.123996e-01 -1.267807e-01   \n",
       "25%   -3.729927e-02 -4.464164e-02 -3.422907e-02 -3.665645e-02 -3.424784e-02   \n",
       "50%    5.383060e-03 -4.464164e-02 -7.283766e-03 -5.670611e-03 -4.320866e-03   \n",
       "75%    3.807591e-02  5.068012e-02  3.124802e-02  3.564384e-02  2.835801e-02   \n",
       "max    1.107267e-01  5.068012e-02  1.705552e-01  1.320442e-01  1.539137e-01   \n",
       "\n",
       "                ldl           hdl           tch           ltg           glu  \n",
       "count  4.420000e+02  4.420000e+02  4.420000e+02  4.420000e+02  4.420000e+02  \n",
       "mean   1.327024e-16 -4.574646e-16  3.777301e-16 -3.830854e-16 -3.412882e-16  \n",
       "std    4.761905e-02  4.761905e-02  4.761905e-02  4.761905e-02  4.761905e-02  \n",
       "min   -1.156131e-01 -1.023071e-01 -7.639450e-02 -1.260974e-01 -1.377672e-01  \n",
       "25%   -3.035840e-02 -3.511716e-02 -3.949338e-02 -3.324879e-02 -3.317903e-02  \n",
       "50%   -3.819065e-03 -6.584468e-03 -2.592262e-03 -1.947634e-03 -1.077698e-03  \n",
       "75%    2.984439e-02  2.931150e-02  3.430886e-02  3.243323e-02  2.791705e-02  \n",
       "max    1.987880e-01  1.811791e-01  1.852344e-01  1.335990e-01  1.356118e-01  "
      ]
     },
     "execution_count": 3,
     "metadata": {},
     "output_type": "execute_result"
    }
   ],
   "source": [
    "X_all.describe()"
   ]
  },
  {
   "cell_type": "code",
   "execution_count": 4,
   "metadata": {},
   "outputs": [
    {
     "data": {
      "text/html": [
       "<div>\n",
       "<style scoped>\n",
       "    .dataframe tbody tr th:only-of-type {\n",
       "        vertical-align: middle;\n",
       "    }\n",
       "\n",
       "    .dataframe tbody tr th {\n",
       "        vertical-align: top;\n",
       "    }\n",
       "\n",
       "    .dataframe thead th {\n",
       "        text-align: right;\n",
       "    }\n",
       "</style>\n",
       "<table border=\"1\" class=\"dataframe\">\n",
       "  <thead>\n",
       "    <tr style=\"text-align: right;\">\n",
       "      <th></th>\n",
       "      <th>target</th>\n",
       "    </tr>\n",
       "  </thead>\n",
       "  <tbody>\n",
       "    <tr>\n",
       "      <th>count</th>\n",
       "      <td>442.000000</td>\n",
       "    </tr>\n",
       "    <tr>\n",
       "      <th>mean</th>\n",
       "      <td>152.133484</td>\n",
       "    </tr>\n",
       "    <tr>\n",
       "      <th>std</th>\n",
       "      <td>77.093005</td>\n",
       "    </tr>\n",
       "    <tr>\n",
       "      <th>min</th>\n",
       "      <td>25.000000</td>\n",
       "    </tr>\n",
       "    <tr>\n",
       "      <th>25%</th>\n",
       "      <td>87.000000</td>\n",
       "    </tr>\n",
       "    <tr>\n",
       "      <th>50%</th>\n",
       "      <td>140.500000</td>\n",
       "    </tr>\n",
       "    <tr>\n",
       "      <th>75%</th>\n",
       "      <td>211.500000</td>\n",
       "    </tr>\n",
       "    <tr>\n",
       "      <th>max</th>\n",
       "      <td>346.000000</td>\n",
       "    </tr>\n",
       "  </tbody>\n",
       "</table>\n",
       "</div>"
      ],
      "text/plain": [
       "           target\n",
       "count  442.000000\n",
       "mean   152.133484\n",
       "std     77.093005\n",
       "min     25.000000\n",
       "25%     87.000000\n",
       "50%    140.500000\n",
       "75%    211.500000\n",
       "max    346.000000"
      ]
     },
     "execution_count": 4,
     "metadata": {},
     "output_type": "execute_result"
    }
   ],
   "source": [
    "#一年後の病気進行のデータ\"target\"\n",
    "y_all = pd.DataFrame(data_diabetes.target, columns=[\"target\"])\n",
    "y_all.describe()"
   ]
  },
  {
   "cell_type": "markdown",
   "metadata": {},
   "source": [
    "# データの確認\n",
    "データ分析以前にわかることを確認．特徴量の属性やドメイン知識など\n",
    "- 特徴量の確認\n",
    "- ラベルの確認"
   ]
  },
  {
   "cell_type": "code",
   "execution_count": 5,
   "metadata": {},
   "outputs": [
    {
     "data": {
      "text/plain": [
       "Index(['age', 'sex', 'bmi', 'map', 'tc', 'ldl', 'hdl', 'tch', 'ltg', 'glu'], dtype='object')"
      ]
     },
     "execution_count": 5,
     "metadata": {},
     "output_type": "execute_result"
    }
   ],
   "source": [
    "X_all.keys()"
   ]
  },
  {
   "cell_type": "code",
   "execution_count": 6,
   "metadata": {},
   "outputs": [],
   "source": [
    "# 'age'=年齢, \n",
    "# 'sex'=性別, \n",
    "# 'bmi'＝BMI, \n",
    "# 'bp'=map=平均動脈圧, \n",
    "\n",
    "# 【s1~s6までは血清データ】\n",
    "# 's1=tc=総コレステロール（mg / dL）', \n",
    "# 's2=ldl=低密度リポタンパク質', \n",
    "# 's3=hdl=高密度リポタンパク質', \n",
    "# 's4=tch=血清測定', \n",
    "# 's5=ltg=血清測定', \n",
    "# 's6=glu='"
   ]
  },
  {
   "cell_type": "markdown",
   "metadata": {},
   "source": [
    "# 仮説を立てる\n",
    "データについて，導きたい仮説と結論を整理してください．"
   ]
  },
  {
   "cell_type": "markdown",
   "metadata": {},
   "source": [
    "・おそらくBMIは身長と体重のバランスのため\n",
    "<br>\n",
    "→体重が重い人ほど、病気の進行スピードが早い可能性があると仮説できる\n",
    "<br>\n",
    ".また何らかの血清データも病気の進行に関係している可能性がある"
   ]
  },
  {
   "cell_type": "markdown",
   "metadata": {},
   "source": [
    "# データの分析"
   ]
  },
  {
   "cell_type": "code",
   "execution_count": 9,
   "metadata": {},
   "outputs": [
    {
     "data": {
      "text/plain": [
       "<AxesSubplot:>"
      ]
     },
     "execution_count": 9,
     "metadata": {},
     "output_type": "execute_result"
    },
    {
     "data": {
      "image/png": "[encoded data removed]",
      "text/plain": [
       "<Figure size 1152x648 with 1 Axes>"
      ]
     },
     "metadata": {
      "needs_background": "light"
     },
     "output_type": "display_data"
    }
   ],
   "source": [
    "#正規化後\n",
    "X_all.boxplot(figsize=(16,9))"
   ]
  },
  {
   "cell_type": "code",
   "execution_count": 11,
   "metadata": {},
   "outputs": [],
   "source": [
    "from sklearn.model_selection import train_test_split\n",
    "X_train, X_test, y_train, y_test = train_test_split(X_all, y_all, test_size=0.2, random_state=44)"
   ]
  },
  {
   "cell_type": "code",
   "execution_count": 12,
   "metadata": {},
   "outputs": [],
   "source": [
    "train = pd.concat([X_train,y_train],axis=1,sort=False)"
   ]
  },
  {
   "cell_type": "code",
   "execution_count": 13,
   "metadata": {},
   "outputs": [
    {
     "data": {
      "text/html": [
       "<div>\n",
       "<style scoped>\n",
       "    .dataframe tbody tr th:only-of-type {\n",
       "        vertical-align: middle;\n",
       "    }\n",
       "\n",
       "    .dataframe tbody tr th {\n",
       "        vertical-align: top;\n",
       "    }\n",
       "\n",
       "    .dataframe thead th {\n",
       "        text-align: right;\n",
       "    }\n",
       "</style>\n",
       "<table border=\"1\" class=\"dataframe\">\n",
       "  <thead>\n",
       "    <tr style=\"text-align: right;\">\n",
       "      <th></th>\n",
       "      <th>age</th>\n",
       "      <th>sex</th>\n",
       "      <th>bmi</th>\n",
       "      <th>map</th>\n",
       "      <th>tc</th>\n",
       "      <th>ldl</th>\n",
       "      <th>hdl</th>\n",
       "      <th>tch</th>\n",
       "      <th>ltg</th>\n",
       "      <th>glu</th>\n",
       "      <th>target</th>\n",
       "    </tr>\n",
       "  </thead>\n",
       "  <tbody>\n",
       "    <tr>\n",
       "      <th>age</th>\n",
       "      <td>1.000000</td>\n",
       "      <td>0.232927</td>\n",
       "      <td>0.216146</td>\n",
       "      <td>0.340377</td>\n",
       "      <td>0.287460</td>\n",
       "      <td>0.231284</td>\n",
       "      <td>-0.080549</td>\n",
       "      <td>0.245478</td>\n",
       "      <td>0.320945</td>\n",
       "      <td>0.327012</td>\n",
       "      <td>0.193348</td>\n",
       "    </tr>\n",
       "    <tr>\n",
       "      <th>sex</th>\n",
       "      <td>0.232927</td>\n",
       "      <td>1.000000</td>\n",
       "      <td>0.129951</td>\n",
       "      <td>0.284224</td>\n",
       "      <td>0.024270</td>\n",
       "      <td>0.123587</td>\n",
       "      <td>-0.367239</td>\n",
       "      <td>0.309963</td>\n",
       "      <td>0.161479</td>\n",
       "      <td>0.231568</td>\n",
       "      <td>0.078783</td>\n",
       "    </tr>\n",
       "    <tr>\n",
       "      <th>bmi</th>\n",
       "      <td>0.216146</td>\n",
       "      <td>0.129951</td>\n",
       "      <td>1.000000</td>\n",
       "      <td>0.390064</td>\n",
       "      <td>0.226958</td>\n",
       "      <td>0.263253</td>\n",
       "      <td>-0.400130</td>\n",
       "      <td>0.452700</td>\n",
       "      <td>0.434008</td>\n",
       "      <td>0.419036</td>\n",
       "      <td>0.579814</td>\n",
       "    </tr>\n",
       "    <tr>\n",
       "      <th>map</th>\n",
       "      <td>0.340377</td>\n",
       "      <td>0.284224</td>\n",
       "      <td>0.390064</td>\n",
       "      <td>1.000000</td>\n",
       "      <td>0.239531</td>\n",
       "      <td>0.172689</td>\n",
       "      <td>-0.167509</td>\n",
       "      <td>0.270738</td>\n",
       "      <td>0.413176</td>\n",
       "      <td>0.421568</td>\n",
       "      <td>0.429906</td>\n",
       "    </tr>\n",
       "    <tr>\n",
       "      <th>tc</th>\n",
       "      <td>0.287460</td>\n",
       "      <td>0.024270</td>\n",
       "      <td>0.226958</td>\n",
       "      <td>0.239531</td>\n",
       "      <td>1.000000</td>\n",
       "      <td>0.892244</td>\n",
       "      <td>0.079534</td>\n",
       "      <td>0.521839</td>\n",
       "      <td>0.509239</td>\n",
       "      <td>0.335194</td>\n",
       "      <td>0.198081</td>\n",
       "    </tr>\n",
       "    <tr>\n",
       "      <th>ldl</th>\n",
       "      <td>0.231284</td>\n",
       "      <td>0.123587</td>\n",
       "      <td>0.263253</td>\n",
       "      <td>0.172689</td>\n",
       "      <td>0.892244</td>\n",
       "      <td>1.000000</td>\n",
       "      <td>-0.181769</td>\n",
       "      <td>0.648229</td>\n",
       "      <td>0.318129</td>\n",
       "      <td>0.303553</td>\n",
       "      <td>0.171462</td>\n",
       "    </tr>\n",
       "    <tr>\n",
       "      <th>hdl</th>\n",
       "      <td>-0.080549</td>\n",
       "      <td>-0.367239</td>\n",
       "      <td>-0.400130</td>\n",
       "      <td>-0.167509</td>\n",
       "      <td>0.079534</td>\n",
       "      <td>-0.181769</td>\n",
       "      <td>1.000000</td>\n",
       "      <td>-0.739600</td>\n",
       "      <td>-0.394526</td>\n",
       "      <td>-0.302913</td>\n",
       "      <td>-0.408786</td>\n",
       "    </tr>\n",
       "    <tr>\n",
       "      <th>tch</th>\n",
       "      <td>0.245478</td>\n",
       "      <td>0.309963</td>\n",
       "      <td>0.452700</td>\n",
       "      <td>0.270738</td>\n",
       "      <td>0.521839</td>\n",
       "      <td>0.648229</td>\n",
       "      <td>-0.739600</td>\n",
       "      <td>1.000000</td>\n",
       "      <td>0.624302</td>\n",
       "      <td>0.453658</td>\n",
       "      <td>0.459906</td>\n",
       "    </tr>\n",
       "    <tr>\n",
       "      <th>ltg</th>\n",
       "      <td>0.320945</td>\n",
       "      <td>0.161479</td>\n",
       "      <td>0.434008</td>\n",
       "      <td>0.413176</td>\n",
       "      <td>0.509239</td>\n",
       "      <td>0.318129</td>\n",
       "      <td>-0.394526</td>\n",
       "      <td>0.624302</td>\n",
       "      <td>1.000000</td>\n",
       "      <td>0.496546</td>\n",
       "      <td>0.562748</td>\n",
       "    </tr>\n",
       "    <tr>\n",
       "      <th>glu</th>\n",
       "      <td>0.327012</td>\n",
       "      <td>0.231568</td>\n",
       "      <td>0.419036</td>\n",
       "      <td>0.421568</td>\n",
       "      <td>0.335194</td>\n",
       "      <td>0.303553</td>\n",
       "      <td>-0.302913</td>\n",
       "      <td>0.453658</td>\n",
       "      <td>0.496546</td>\n",
       "      <td>1.000000</td>\n",
       "      <td>0.413182</td>\n",
       "    </tr>\n",
       "    <tr>\n",
       "      <th>target</th>\n",
       "      <td>0.193348</td>\n",
       "      <td>0.078783</td>\n",
       "      <td>0.579814</td>\n",
       "      <td>0.429906</td>\n",
       "      <td>0.198081</td>\n",
       "      <td>0.171462</td>\n",
       "      <td>-0.408786</td>\n",
       "      <td>0.459906</td>\n",
       "      <td>0.562748</td>\n",
       "      <td>0.413182</td>\n",
       "      <td>1.000000</td>\n",
       "    </tr>\n",
       "  </tbody>\n",
       "</table>\n",
       "</div>"
      ],
      "text/plain": [
       "             age       sex       bmi       map        tc       ldl       hdl  \\\n",
       "age     1.000000  0.232927  0.216146  0.340377  0.287460  0.231284 -0.080549   \n",
       "sex     0.232927  1.000000  0.129951  0.284224  0.024270  0.123587 -0.367239   \n",
       "bmi     0.216146  0.129951  1.000000  0.390064  0.226958  0.263253 -0.400130   \n",
       "map     0.340377  0.284224  0.390064  1.000000  0.239531  0.172689 -0.167509   \n",
       "tc      0.287460  0.024270  0.226958  0.239531  1.000000  0.892244  0.079534   \n",
       "ldl     0.231284  0.123587  0.263253  0.172689  0.892244  1.000000 -0.181769   \n",
       "hdl    -0.080549 -0.367239 -0.400130 -0.167509  0.079534 -0.181769  1.000000   \n",
       "tch     0.245478  0.309963  0.452700  0.270738  0.521839  0.648229 -0.739600   \n",
       "ltg     0.320945  0.161479  0.434008  0.413176  0.509239  0.318129 -0.394526   \n",
       "glu     0.327012  0.231568  0.419036  0.421568  0.335194  0.303553 -0.302913   \n",
       "target  0.193348  0.078783  0.579814  0.429906  0.198081  0.171462 -0.408786   \n",
       "\n",
       "             tch       ltg       glu    target  \n",
       "age     0.245478  0.320945  0.327012  0.193348  \n",
       "sex     0.309963  0.161479  0.231568  0.078783  \n",
       "bmi     0.452700  0.434008  0.419036  0.579814  \n",
       "map     0.270738  0.413176  0.421568  0.429906  \n",
       "tc      0.521839  0.509239  0.335194  0.198081  \n",
       "ldl     0.648229  0.318129  0.303553  0.171462  \n",
       "hdl    -0.739600 -0.394526 -0.302913 -0.408786  \n",
       "tch     1.000000  0.624302  0.453658  0.459906  \n",
       "ltg     0.624302  1.000000  0.496546  0.562748  \n",
       "glu     0.453658  0.496546  1.000000  0.413182  \n",
       "target  0.459906  0.562748  0.413182  1.000000  "
      ]
     },
     "execution_count": 13,
     "metadata": {},
     "output_type": "execute_result"
    }
   ],
   "source": [
    "#相関係数の創出\n",
    "train.corr()"
   ]
  },
  {
   "cell_type": "code",
   "execution_count": 14,
   "metadata": {},
   "outputs": [
    {
     "data": {
      "text/plain": [
       "<AxesSubplot:>"
      ]
     },
     "execution_count": 14,
     "metadata": {},
     "output_type": "execute_result"
    },
    {
     "data": {
      "image/png": "[encoded data removed]",
      "text/plain": [
       "<Figure size 1440x720 with 2 Axes>"
      ]
     },
     "metadata": {
      "needs_background": "light"
     },
     "output_type": "display_data"
    }
   ],
   "source": [
    "#ヒートマップでの表現\n",
    "import seaborn as sns\n",
    "import matplotlib.pyplot as plt\n",
    "plt.rcParams['figure.figsize'] = (20.0, 10.0)\n",
    "sns.heatmap(train.corr(),  annot=True,square=True,  cmap='coolwarm')"
   ]
  },
  {
   "cell_type": "markdown",
   "metadata": {},
   "source": [
    "上記マップを確認すると、\"BMI:0.58\"と\"ltg:0.56\"において正の相関が見られる"
   ]
  },
  {
   "cell_type": "code",
   "execution_count": 15,
   "metadata": {},
   "outputs": [
    {
     "data": {
      "text/plain": [
       "<AxesSubplot:xlabel='bmi', ylabel='target'>"
      ]
     },
     "execution_count": 15,
     "metadata": {},
     "output_type": "execute_result"
    },
    {
     "data": {
      "image/png": "[encoded data removed]",
      "text/plain": [
       "<Figure size 1440x720 with 1 Axes>"
      ]
     },
     "metadata": {
      "needs_background": "light"
     },
     "output_type": "display_data"
    }
   ],
   "source": [
    "#bmiとtargetを見た場合のデータの散布図\n",
    "sns.scatterplot( x='bmi', y=\"target\", data=train)"
   ]
  },
  {
   "cell_type": "code",
   "execution_count": 16,
   "metadata": {},
   "outputs": [
    {
     "data": {
      "text/plain": [
       "<AxesSubplot:xlabel='ltg', ylabel='target'>"
      ]
     },
     "execution_count": 16,
     "metadata": {},
     "output_type": "execute_result"
    },
    {
     "data": {
      "image/png": "[encoded data removed]",
      "text/plain": [
       "<Figure size 1440x720 with 1 Axes>"
      ]
     },
     "metadata": {
      "needs_background": "light"
     },
     "output_type": "display_data"
    }
   ],
   "source": [
    "#ltgとtargetを見た場合のデータの散布図\n",
    "sns.scatterplot( x='ltg', y=\"target\", data=train)"
   ]
  },
  {
   "cell_type": "markdown",
   "metadata": {},
   "source": [
    "それぞれ相関がありそうな雰囲気を感じる・・・"
   ]
  },
  {
   "cell_type": "markdown",
   "metadata": {},
   "source": [
    "# モデルの訓練\n",
    "データは分割するようにしてください．交叉検証についてはまだ説明したいので自由にしてください．\n",
    "\n",
    "また，モデルの訓練およびデータ分割時に乱数の指定がないなど再現性がなさそうなコードは認めないことにします．\n",
    "\n",
    "モデルは自由ですが，sklearn を想定しています．自作ライブラリも可ですが，自作の場合，該当箇所は適当に読みます．"
   ]
  },
  {
   "cell_type": "markdown",
   "metadata": {
    "collapsed": true
   },
   "source": [
    "<h2>【データの分割】</h2>\n",
    "ここでは、学習用と評価用のデータを4:1に分ける"
   ]
  },
  {
   "cell_type": "code",
   "execution_count": 17,
   "metadata": {},
   "outputs": [],
   "source": [
    "#既に相関係数の提示で計算済み\n",
    "\n",
    "from sklearn.model_selection import train_test_split\n",
    "X_train, X_test, y_train, y_test = train_test_split(X_all, y_all, test_size=0.2, random_state=44)"
   ]
  },
  {
   "cell_type": "code",
   "execution_count": 18,
   "metadata": {},
   "outputs": [],
   "source": [
    "train = pd.concat([X_train,y_train],axis=1,sort=False)"
   ]
  },
  {
   "cell_type": "code",
   "execution_count": 19,
   "metadata": {},
   "outputs": [
    {
     "data": {
      "text/html": [
       "<div>\n",
       "<style scoped>\n",
       "    .dataframe tbody tr th:only-of-type {\n",
       "        vertical-align: middle;\n",
       "    }\n",
       "\n",
       "    .dataframe tbody tr th {\n",
       "        vertical-align: top;\n",
       "    }\n",
       "\n",
       "    .dataframe thead th {\n",
       "        text-align: right;\n",
       "    }\n",
       "</style>\n",
       "<table border=\"1\" class=\"dataframe\">\n",
       "  <thead>\n",
       "    <tr style=\"text-align: right;\">\n",
       "      <th></th>\n",
       "      <th>age</th>\n",
       "      <th>sex</th>\n",
       "      <th>bmi</th>\n",
       "      <th>map</th>\n",
       "      <th>tc</th>\n",
       "      <th>ldl</th>\n",
       "      <th>hdl</th>\n",
       "      <th>tch</th>\n",
       "      <th>ltg</th>\n",
       "      <th>glu</th>\n",
       "      <th>target</th>\n",
       "    </tr>\n",
       "  </thead>\n",
       "  <tbody>\n",
       "    <tr>\n",
       "      <th>age</th>\n",
       "      <td>1.000000</td>\n",
       "      <td>0.232927</td>\n",
       "      <td>0.216146</td>\n",
       "      <td>0.340377</td>\n",
       "      <td>0.287460</td>\n",
       "      <td>0.231284</td>\n",
       "      <td>-0.080549</td>\n",
       "      <td>0.245478</td>\n",
       "      <td>0.320945</td>\n",
       "      <td>0.327012</td>\n",
       "      <td>0.193348</td>\n",
       "    </tr>\n",
       "    <tr>\n",
       "      <th>sex</th>\n",
       "      <td>0.232927</td>\n",
       "      <td>1.000000</td>\n",
       "      <td>0.129951</td>\n",
       "      <td>0.284224</td>\n",
       "      <td>0.024270</td>\n",
       "      <td>0.123587</td>\n",
       "      <td>-0.367239</td>\n",
       "      <td>0.309963</td>\n",
       "      <td>0.161479</td>\n",
       "      <td>0.231568</td>\n",
       "      <td>0.078783</td>\n",
       "    </tr>\n",
       "    <tr>\n",
       "      <th>bmi</th>\n",
       "      <td>0.216146</td>\n",
       "      <td>0.129951</td>\n",
       "      <td>1.000000</td>\n",
       "      <td>0.390064</td>\n",
       "      <td>0.226958</td>\n",
       "      <td>0.263253</td>\n",
       "      <td>-0.400130</td>\n",
       "      <td>0.452700</td>\n",
       "      <td>0.434008</td>\n",
       "      <td>0.419036</td>\n",
       "      <td>0.579814</td>\n",
       "    </tr>\n",
       "    <tr>\n",
       "      <th>map</th>\n",
       "      <td>0.340377</td>\n",
       "      <td>0.284224</td>\n",
       "      <td>0.390064</td>\n",
       "      <td>1.000000</td>\n",
       "      <td>0.239531</td>\n",
       "      <td>0.172689</td>\n",
       "      <td>-0.167509</td>\n",
       "      <td>0.270738</td>\n",
       "      <td>0.413176</td>\n",
       "      <td>0.421568</td>\n",
       "      <td>0.429906</td>\n",
       "    </tr>\n",
       "    <tr>\n",
       "      <th>tc</th>\n",
       "      <td>0.287460</td>\n",
       "      <td>0.024270</td>\n",
       "      <td>0.226958</td>\n",
       "      <td>0.239531</td>\n",
       "      <td>1.000000</td>\n",
       "      <td>0.892244</td>\n",
       "      <td>0.079534</td>\n",
       "      <td>0.521839</td>\n",
       "      <td>0.509239</td>\n",
       "      <td>0.335194</td>\n",
       "      <td>0.198081</td>\n",
       "    </tr>\n",
       "    <tr>\n",
       "      <th>ldl</th>\n",
       "      <td>0.231284</td>\n",
       "      <td>0.123587</td>\n",
       "      <td>0.263253</td>\n",
       "      <td>0.172689</td>\n",
       "      <td>0.892244</td>\n",
       "      <td>1.000000</td>\n",
       "      <td>-0.181769</td>\n",
       "      <td>0.648229</td>\n",
       "      <td>0.318129</td>\n",
       "      <td>0.303553</td>\n",
       "      <td>0.171462</td>\n",
       "    </tr>\n",
       "    <tr>\n",
       "      <th>hdl</th>\n",
       "      <td>-0.080549</td>\n",
       "      <td>-0.367239</td>\n",
       "      <td>-0.400130</td>\n",
       "      <td>-0.167509</td>\n",
       "      <td>0.079534</td>\n",
       "      <td>-0.181769</td>\n",
       "      <td>1.000000</td>\n",
       "      <td>-0.739600</td>\n",
       "      <td>-0.394526</td>\n",
       "      <td>-0.302913</td>\n",
       "      <td>-0.408786</td>\n",
       "    </tr>\n",
       "    <tr>\n",
       "      <th>tch</th>\n",
       "      <td>0.245478</td>\n",
       "      <td>0.309963</td>\n",
       "      <td>0.452700</td>\n",
       "      <td>0.270738</td>\n",
       "      <td>0.521839</td>\n",
       "      <td>0.648229</td>\n",
       "      <td>-0.739600</td>\n",
       "      <td>1.000000</td>\n",
       "      <td>0.624302</td>\n",
       "      <td>0.453658</td>\n",
       "      <td>0.459906</td>\n",
       "    </tr>\n",
       "    <tr>\n",
       "      <th>ltg</th>\n",
       "      <td>0.320945</td>\n",
       "      <td>0.161479</td>\n",
       "      <td>0.434008</td>\n",
       "      <td>0.413176</td>\n",
       "      <td>0.509239</td>\n",
       "      <td>0.318129</td>\n",
       "      <td>-0.394526</td>\n",
       "      <td>0.624302</td>\n",
       "      <td>1.000000</td>\n",
       "      <td>0.496546</td>\n",
       "      <td>0.562748</td>\n",
       "    </tr>\n",
       "    <tr>\n",
       "      <th>glu</th>\n",
       "      <td>0.327012</td>\n",
       "      <td>0.231568</td>\n",
       "      <td>0.419036</td>\n",
       "      <td>0.421568</td>\n",
       "      <td>0.335194</td>\n",
       "      <td>0.303553</td>\n",
       "      <td>-0.302913</td>\n",
       "      <td>0.453658</td>\n",
       "      <td>0.496546</td>\n",
       "      <td>1.000000</td>\n",
       "      <td>0.413182</td>\n",
       "    </tr>\n",
       "    <tr>\n",
       "      <th>target</th>\n",
       "      <td>0.193348</td>\n",
       "      <td>0.078783</td>\n",
       "      <td>0.579814</td>\n",
       "      <td>0.429906</td>\n",
       "      <td>0.198081</td>\n",
       "      <td>0.171462</td>\n",
       "      <td>-0.408786</td>\n",
       "      <td>0.459906</td>\n",
       "      <td>0.562748</td>\n",
       "      <td>0.413182</td>\n",
       "      <td>1.000000</td>\n",
       "    </tr>\n",
       "  </tbody>\n",
       "</table>\n",
       "</div>"
      ],
      "text/plain": [
       "             age       sex       bmi       map        tc       ldl       hdl  \\\n",
       "age     1.000000  0.232927  0.216146  0.340377  0.287460  0.231284 -0.080549   \n",
       "sex     0.232927  1.000000  0.129951  0.284224  0.024270  0.123587 -0.367239   \n",
       "bmi     0.216146  0.129951  1.000000  0.390064  0.226958  0.263253 -0.400130   \n",
       "map     0.340377  0.284224  0.390064  1.000000  0.239531  0.172689 -0.167509   \n",
       "tc      0.287460  0.024270  0.226958  0.239531  1.000000  0.892244  0.079534   \n",
       "ldl     0.231284  0.123587  0.263253  0.172689  0.892244  1.000000 -0.181769   \n",
       "hdl    -0.080549 -0.367239 -0.400130 -0.167509  0.079534 -0.181769  1.000000   \n",
       "tch     0.245478  0.309963  0.452700  0.270738  0.521839  0.648229 -0.739600   \n",
       "ltg     0.320945  0.161479  0.434008  0.413176  0.509239  0.318129 -0.394526   \n",
       "glu     0.327012  0.231568  0.419036  0.421568  0.335194  0.303553 -0.302913   \n",
       "target  0.193348  0.078783  0.579814  0.429906  0.198081  0.171462 -0.408786   \n",
       "\n",
       "             tch       ltg       glu    target  \n",
       "age     0.245478  0.320945  0.327012  0.193348  \n",
       "sex     0.309963  0.161479  0.231568  0.078783  \n",
       "bmi     0.452700  0.434008  0.419036  0.579814  \n",
       "map     0.270738  0.413176  0.421568  0.429906  \n",
       "tc      0.521839  0.509239  0.335194  0.198081  \n",
       "ldl     0.648229  0.318129  0.303553  0.171462  \n",
       "hdl    -0.739600 -0.394526 -0.302913 -0.408786  \n",
       "tch     1.000000  0.624302  0.453658  0.459906  \n",
       "ltg     0.624302  1.000000  0.496546  0.562748  \n",
       "glu     0.453658  0.496546  1.000000  0.413182  \n",
       "target  0.459906  0.562748  0.413182  1.000000  "
      ]
     },
     "execution_count": 19,
     "metadata": {},
     "output_type": "execute_result"
    }
   ],
   "source": [
    "train.corr()"
   ]
  },
  {
   "cell_type": "code",
   "execution_count": 20,
   "metadata": {},
   "outputs": [
    {
     "name": "stdout",
     "output_type": "stream",
     "text": [
      "<class 'pandas.core.frame.DataFrame'>\n",
      "Int64Index: 353 entries, 205 to 276\n",
      "Data columns (total 11 columns):\n",
      " #   Column  Non-Null Count  Dtype  \n",
      "---  ------  --------------  -----  \n",
      " 0   age     353 non-null    float64\n",
      " 1   sex     353 non-null    float64\n",
      " 2   bmi     353 non-null    float64\n",
      " 3   map     353 non-null    float64\n",
      " 4   tc      353 non-null    float64\n",
      " 5   ldl     353 non-null    float64\n",
      " 6   hdl     353 non-null    float64\n",
      " 7   tch     353 non-null    float64\n",
      " 8   ltg     353 non-null    float64\n",
      " 9   glu     353 non-null    float64\n",
      " 10  target  353 non-null    float64\n",
      "dtypes: float64(11)\n",
      "memory usage: 33.1 KB\n"
     ]
    }
   ],
   "source": [
    "train.info()"
   ]
  },
  {
   "cell_type": "markdown",
   "metadata": {},
   "source": [
    "# 予測"
   ]
  },
  {
   "cell_type": "markdown",
   "metadata": {
    "collapsed": true
   },
   "source": [
    "機械学習モデルとしてランダムフォレストを利用"
   ]
  },
  {
   "cell_type": "code",
   "execution_count": 21,
   "metadata": {},
   "outputs": [],
   "source": [
    "from sklearn.ensemble import  RandomForestRegressor\n",
    "from sklearn.model_selection import GridSearchCV"
   ]
  },
  {
   "cell_type": "code",
   "execution_count": 24,
   "metadata": {},
   "outputs": [
    {
     "data": {
      "text/plain": [
       "GridSearchCV(cv=10, estimator=RandomForestRegressor(random_state=0), n_jobs=-1,\n",
       "             param_grid={'max_depth': [1, 2, 3, 5, 7],\n",
       "                         'min_samples_split': [2, 3, 5, 7],\n",
       "                         'n_estimators': [100, 200, 500]},\n",
       "             scoring='r2')"
      ]
     },
     "execution_count": 24,
     "metadata": {},
     "output_type": "execute_result"
    }
   ],
   "source": [
    "param_grid = {\"max_depth\":[1,2,3,5,7], \"n_estimators\":[100,200,500],\"min_samples_split\":[2,3, 5,7] }\n",
    "\n",
    "reg_rf = GridSearchCV(estimator=RandomForestRegressor(random_state=0),\n",
    "                 param_grid = param_grid,   \n",
    "                 scoring=\"r2\",  \n",
    "                 cv = 10,              \n",
    "                 n_jobs = -1)          \n",
    "\n",
    "reg_rf.fit(X_train,y_train[\"target\"].values)"
   ]
  },
  {
   "cell_type": "code",
   "execution_count": 25,
   "metadata": {},
   "outputs": [
    {
     "name": "stdout",
     "output_type": "stream",
     "text": [
      "0.40224585446643457\n"
     ]
    }
   ],
   "source": [
    "#決定係数:ランダムフォレスト時\n",
    "print(reg_rf.best_score_)"
   ]
  },
  {
   "cell_type": "markdown",
   "metadata": {},
   "source": [
    "<h2>機械学習モデル\"ElasticNet\"を利用</h2>"
   ]
  },
  {
   "cell_type": "code",
   "execution_count": 26,
   "metadata": {},
   "outputs": [],
   "source": [
    "#ハイパラ探索\n",
    "from sklearn.linear_model import ElasticNet\n",
    "from sklearn.model_selection import GridSearchCV"
   ]
  },
  {
   "cell_type": "code",
   "execution_count": 27,
   "metadata": {},
   "outputs": [
    {
     "data": {
      "text/plain": [
       "GridSearchCV(cv=5, estimator=ElasticNet(), n_jobs=-1,\n",
       "             param_grid={'alpha': [1e-05, 0.0001, 0.001, 0.01, 0.01, 0.1],\n",
       "                         'l1_ratio': [0, 0.25, 0.5, 0.75, 1]},\n",
       "             scoring='r2')"
      ]
     },
     "execution_count": 27,
     "metadata": {},
     "output_type": "execute_result"
    }
   ],
   "source": [
    "param_grid = {'alpha': [0.00001, 0.0001, 0.001,0.01, 0.01, 0.1],'l1_ratio': [0, 0.25, 0.5, 0.75, 1]}\n",
    "\n",
    "reg_en = GridSearchCV(estimator=ElasticNet(),\n",
    "                 param_grid = param_grid,   \n",
    "                 scoring=\"r2\",  \n",
    "                 cv = 5,              \n",
    "                 n_jobs = -1)          \n",
    "\n",
    "reg_en.fit(X_train,y_train[\"target\"].values)"
   ]
  },
  {
   "cell_type": "code",
   "execution_count": 28,
   "metadata": {},
   "outputs": [
    {
     "name": "stdout",
     "output_type": "stream",
     "text": [
      "Score:  0.439723609481423\n",
      "Params:  {'alpha': 0.1, 'l1_ratio': 1}\n"
     ]
    }
   ],
   "source": [
    "print(\"Score: \",reg_en.best_score_)\n",
    "#ランダムフォレストより少し改善\n",
    "\n",
    "print(\"Params: \",reg_en.best_params_)"
   ]
  },
  {
   "cell_type": "code",
   "execution_count": 29,
   "metadata": {},
   "outputs": [],
   "source": [
    "#もっとも良いハイパラを設定したモデルを\"reg_best\"で残しておく\n",
    "reg_best = reg_en.best_estimator_"
   ]
  },
  {
   "cell_type": "markdown",
   "metadata": {},
   "source": [
    "# 精度の確認"
   ]
  },
  {
   "cell_type": "markdown",
   "metadata": {},
   "source": [
    "決定係数を用い,精度の確認を行う\n",
    "<br>なお、係数は、相関係数の2乗の値になる"
   ]
  },
  {
   "cell_type": "code",
   "execution_count": 30,
   "metadata": {},
   "outputs": [
    {
     "name": "stdout",
     "output_type": "stream",
     "text": [
      "0.5176595852607104\n"
     ]
    }
   ],
   "source": [
    "from sklearn.metrics import r2_score\n",
    "y_pred = reg_best.predict(X_test)\n",
    "\n",
    "print(r2_score(y_test, y_pred))"
   ]
  },
  {
   "cell_type": "code",
   "execution_count": 31,
   "metadata": {},
   "outputs": [
    {
     "name": "stdout",
     "output_type": "stream",
     "text": [
      "相関係数： 0.7194856393707316\n"
     ]
    }
   ],
   "source": [
    "import math\n",
    "correlation = math.sqrt(r2_score(y_test, y_pred))\n",
    "print(\"相関係数：\", correlation)"
   ]
  },
  {
   "cell_type": "markdown",
   "metadata": {},
   "source": [
    "# 仮説の確認\n",
    "最初に立てた仮説を確認してください．\n",
    "\n",
    "予測傾向など精度ベースでも仮説を確認することはできますが，決定木や可視化を用いる方が楽かもしれません．"
   ]
  },
  {
   "cell_type": "markdown",
   "metadata": {},
   "source": []
  },
  {
   "cell_type": "code",
   "execution_count": null,
   "metadata": {},
   "outputs": [],
   "source": []
  },
  {
   "cell_type": "code",
   "execution_count": null,
   "metadata": {},
   "outputs": [],
   "source": []
  }
 ],
 "metadata": {
  "kernelspec": {
   "display_name": "Python 3",
   "language": "python",
   "name": "python3"
  },
  "language_info": {
   "codemirror_mode": {
    "name": "ipython",
    "version": 3
   },
   "file_extension": ".py",
   "mimetype": "text/x-python",
   "name": "python",
   "nbconvert_exporter": "python",
   "pygments_lexer": "ipython3",
   "version": "3.8.5"
  }
 },
 "nbformat": 4,
 "nbformat_minor": 1
}
