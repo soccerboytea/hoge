{
 "cells": [
  {
   "cell_type": "markdown",
   "metadata": {},
   "source": [
    "# 第2回課題\n",
    "numpy, pandas\n",
    "\n",
    "ここでは基本的なことが学べればいいので下記の tutorial に必ず答えがあります．また，一読をお勧めします（scipy は今回対象としていません）．\n",
    "- [numpy](https://numpy.org/devdocs/user/quickstart.html)\n",
    "- [pandas](https://pandas.pydata.org/docs/getting_started/index.html)\n",
    "- [scipy](https://scipy-lectures.org/)"
   ]
  },
  {
   "cell_type": "code",
   "execution_count": 1,
   "metadata": {
    "collapsed": true
   },
   "outputs": [],
   "source": [
    "import numpy as np\n",
    "import pandas as pd"
   ]
  },
  {
   "cell_type": "markdown",
   "metadata": {},
   "source": [
    "## numpy"
   ]
  },
  {
   "cell_type": "markdown",
   "metadata": {},
   "source": [
    "### 課題1\n",
    "九九の表を作りなさい．\n",
    "方法はいくつかありますが numpy を用いていればいいです．\n",
    "\n",
    "出力：  \n",
    "```\n",
    "array([[ 1,  2,  3,  4,  5,  6,  7,  8,  9],\n",
    "       [ 2,  4,  6,  8, 10, 12, 14, 16, 18],\n",
    "       [ 3,  6,  9, 12, 15, 18, 21, 24, 27],\n",
    "       [ 4,  8, 12, 16, 20, 24, 28, 32, 36],\n",
    "       [ 5, 10, 15, 20, 25, 30, 35, 40, 45],\n",
    "       [ 6, 12, 18, 24, 30, 36, 42, 48, 54],\n",
    "       [ 7, 14, 21, 28, 35, 42, 49, 56, 63],\n",
    "       [ 8, 16, 24, 32, 40, 48, 56, 64, 72],\n",
    "       [ 9, 18, 27, 36, 45, 54, 63, 72, 81]])\n",
    "```"
   ]
  },
  {
   "cell_type": "code",
   "execution_count": null,
   "metadata": {
    "collapsed": true
   },
   "outputs": [],
   "source": []
  },
  {
   "cell_type": "markdown",
   "metadata": {},
   "source": [
    "### 課題2\n",
    "以下の2つのデータに対し，共分散を導出せよ．  \n",
    "今回の式では平均が N で求められていることに注意し，`np.cov` の[定義](https://docs.scipy.org/doc/numpy/reference/generated/numpy.cov.html#numpy.cov)をよく読み引数を考慮すること \n",
    "\n",
    "上記の関数が上手く使えない場合は，前回のコードを numpy を用いて実装すること\n",
    "\n",
    "\n",
    "```[python]\n",
    "d1 = np.asarray([50, 50, 80, 70, 90])   # データ1\n",
    "d2 = np.fromiter([50, 70, 60, 90, 100], dtype=int)  # データ2（あえて2つの書き方をしていますが，同じ形になります）\n",
    "```\n",
    "出力：  \n",
    "$188.0$  \n",
    "\n",
    "ここで，サンプル集合 $X=\\{x_i\\}_{1 \\le i \\le N}$，$Y=\\{y_i\\}_{1 \\le i \\le N}$ に対する 共分散 は下式により与えられるものとする．  \n",
    "なお，$N$はサンプル数を表す．\n",
    "\n",
    "$$\n",
    "    \\begin{align}\n",
    "        Cov(X,Y)&=\\frac{1}{N}\\left(\\sum_{i=1}^Nx_iy_i\\right)-\\left(\\frac{1}{N}\\sum_{i=1}^N x_i\\right)\\left(\\frac{1}{N}\\sum_{i=1}^N y_i\\right)\n",
    "    \\end{align}\n",
    "$$  \n",
    "\n"
   ]
  },
  {
   "cell_type": "code",
   "execution_count": null,
   "metadata": {
    "collapsed": true
   },
   "outputs": [],
   "source": []
  },
  {
   "cell_type": "markdown",
   "metadata": {},
   "source": [
    "## pandas"
   ]
  },
  {
   "cell_type": "markdown",
   "metadata": {},
   "source": [
    "open dataset の1つである iris dataset の読み込み（ここでは，おまじない）"
   ]
  },
  {
   "cell_type": "code",
   "execution_count": 56,
   "metadata": {
    "collapsed": true
   },
   "outputs": [],
   "source": [
    "from sklearn.datasets import load_iris\n",
    "iris_data = load_iris() #del iris_data などで不要となった変数を消すことも可能\n",
    "data, label, feature_names = iris_data[\"data\"], iris_data[\"target\"], iris_data[\"feature_names\"]"
   ]
  },
  {
   "cell_type": "code",
   "execution_count": 57,
   "metadata": {
    "collapsed": false
   },
   "outputs": [
    {
     "data": {
      "text/plain": [
       "array([[5.1, 3.5, 1.4, 0.2],\n",
       "       [4.9, 3. , 1.4, 0.2],\n",
       "       [4.7, 3.2, 1.3, 0.2],\n",
       "       [4.6, 3.1, 1.5, 0.2],\n",
       "       [5. , 3.6, 1.4, 0.2]])"
      ]
     },
     "execution_count": 57,
     "metadata": {},
     "output_type": "execute_result"
    }
   ],
   "source": [
    "data[:5]"
   ]
  },
  {
   "cell_type": "markdown",
   "metadata": {},
   "source": [
    "### 課題3\n",
    "次のコードの . の前後を埋めて，DataFrame 化し，それを書き込んで読み込み直したものを出力\n",
    "```[python]\n",
    "iris_df = pd. # DataFrame 化\n",
    "iris_df. # csv or pickle で出力\n",
    "pd. # csv or pickleの読み込み\n",
    ".head() # 先頭の出力\n",
    "```\n",
    "出力：（形があっていれば良いですが，column 名であったり，不必要な index を消せているとなおよいです）\n",
    "```\n",
    "sepal length (cm)\tsepal width (cm)\tpetal length (cm)\tpetal width (cm)\n",
    "0\t5.1\t3.5\t1.4\t0.2\n",
    "1\t4.9\t3.0\t1.4\t0.2\n",
    "2\t4.7\t3.2\t1.3\t0.2\n",
    "3\t4.6\t3.1\t1.5\t0.2\n",
    "4\t5.0\t3.6\t1.4\t0.2\n",
    "```"
   ]
  },
  {
   "cell_type": "code",
   "execution_count": null,
   "metadata": {
    "collapsed": true
   },
   "outputs": [],
   "source": []
  },
  {
   "cell_type": "markdown",
   "metadata": {
    "collapsed": false
   },
   "source": [
    "### 課題4\n",
    "作成した dataframe に label を接続\n",
    "```\n",
    "label = pd.DataFrame(label, columns=[\"label\"])\n",
    "iris_df = pd.\n",
    "iris_df.head()\n",
    "```\n",
    "\n",
    "出力：\n",
    "```\n",
    "\tsepal length (cm)\tsepal width (cm)\tpetal length (cm)\tpetal width (cm)\tlabel\n",
    "0\t5.1\t3.5\t1.4\t0.2\t0\n",
    "1\t4.9\t3.0\t1.4\t0.2\t0\n",
    "2\t4.7\t3.2\t1.3\t0.2\t0\n",
    "3\t4.6\t3.1\t1.5\t0.2\t0\n",
    "4\t5.0\t3.6\t1.4\t0.2\t0\n",
    "```"
   ]
  },
  {
   "cell_type": "code",
   "execution_count": null,
   "metadata": {
    "collapsed": true
   },
   "outputs": [],
   "source": []
  },
  {
   "cell_type": "markdown",
   "metadata": {},
   "source": [
    "### 課題5\n",
    "iris_df の中から label == 1 の行を出力し，index を治す．\n",
    "```\n",
    "iris_one_df = iris_df[....]\n",
    "iris_one_df = iris_one_df.r\n",
    "iris_one_df.head()\n",
    "```\n",
    "\n",
    "出力：\n",
    "```\n",
    "\tsepal length (cm)\tsepal width (cm)\tpetal length (cm)\tpetal width (cm)\tlabel\n",
    "0\t7.0\t3.2\t4.7\t1.4\t1\n",
    "1\t6.4\t3.2\t4.5\t1.5\t1\n",
    "2\t6.9\t3.1\t4.9\t1.5\t1\n",
    "3\t5.5\t2.3\t4.0\t1.3\t1\n",
    "4\t6.5\t2.8\t4.6\t1.5\t1\n",
    "```"
   ]
  },
  {
   "cell_type": "code",
   "execution_count": null,
   "metadata": {
    "collapsed": true
   },
   "outputs": [],
   "source": []
  },
  {
   "cell_type": "markdown",
   "metadata": {},
   "source": [
    "### 課題6\n",
    "pandas の機能を用いて，基本統計量を出力（関数1つで出せるが，個別に min, max, mean などを出しても良い）．\n",
    "```\n",
    "iris_df.\n",
    "```\n",
    "\n",
    "出力：\n",
    "```\n",
    "\t\tsepal length (cm)\tsepal width (cm)\tpetal length (cm)\tpetal width (cm)\tlabel\n",
    "count\t150.000000\t150.000000\t150.000000\t150.000000\t150.000000\n",
    "mean\t5.843333\t3.057333\t3.758000\t1.199333\t1.000000\n",
    "std\t0.828066\t0.435866\t1.765298\t0.762238\t0.819232\n",
    "min\t4.300000\t2.000000\t1.000000\t0.100000\t0.000000\n",
    "25%\t5.100000\t2.800000\t1.600000\t0.300000\t0.000000\n",
    "50%\t5.800000\t3.000000\t4.350000\t1.300000\t1.000000\n",
    "75%\t6.400000\t3.300000\t5.100000\t1.800000\t2.000000\n",
    "max\t7.900000\t4.400000\t6.900000\t2.500000\t2.000000\n",
    "```"
   ]
  },
  {
   "cell_type": "code",
   "execution_count": null,
   "metadata": {
    "collapsed": true
   },
   "outputs": [],
   "source": []
  },
  {
   "cell_type": "markdown",
   "metadata": {},
   "source": [
    "### 発展課題\n",
    "apply 関数を用いて，sepal length (cm) の値を切り上げよ"
   ]
  },
  {
   "cell_type": "code",
   "execution_count": null,
   "metadata": {
    "collapsed": true
   },
   "outputs": [],
   "source": []
  }
 ],
 "metadata": {
  "anaconda-cloud": {},
  "kernelspec": {
   "display_name": "Python [Root]",
   "language": "python",
   "name": "Python [Root]"
  },
  "language_info": {
   "codemirror_mode": {
    "name": "ipython",
    "version": 3
   },
   "file_extension": ".py",
   "mimetype": "text/x-python",
   "name": "python",
   "nbconvert_exporter": "python",
   "pygments_lexer": "ipython3",
   "version": "3.5.2"
  }
 },
 "nbformat": 4,
 "nbformat_minor": 2
}
