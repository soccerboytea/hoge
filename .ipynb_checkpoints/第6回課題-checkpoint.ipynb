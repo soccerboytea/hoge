{
 "cells": [
  {
   "cell_type": "markdown",
   "metadata": {
    "colab_type": "text",
    "id": "2iT6ur-Q-fvC"
   },
   "source": [
    "# 第6回課題\n",
    "前処理と特徴量選択により，SVM の最初のスコアよりも1割程度良いテストスコアを出してください．\n",
    "ちょこっといじった程度では，線形回帰はスコアが変わらなかったので，参考程度に使ってください\n",
    "feature_names から対象の変数を削除する．feature_names.remove()などを駆使することで容易に扱う特徴量を変更できます．\n",
    "\n",
    "### 必須事項\n",
    "- 前処理：正規化，標準化，外れ値の排除など\n",
    "- 特徴量選択: 検証は必須．増やす・減らす・変えないの結果は自由\n",
    "- テストスコアの向上: mse で 0.41 くらいは出ると思います\n",
    "\n",
    "### 自由事項\n",
    "- 指標の変更\n",
    "- ハイパーパラメータの変更（モデルの変更は想定してません）\n",
    "\n",
    "### 余談\n",
    "特徴量選択で正解を用意するのは，やはり難しいなと解答を作る時に感じました．解答の方は最低限の考察と検証をしていますが，4時間かかりました( ;∀;)\n",
    "\n",
    "## 注意事項\n",
    "特徴量の分析時に分割したデータを使ってない時点でせこいというか，おかしいです．ここでは無視していますが，本来はできません．"
   ]
  },
  {
   "cell_type": "code",
   "execution_count": 1,
   "metadata": {},
   "outputs": [],
   "source": [
    "# warning 無視しないと エラー文に含まれるディレクトリ構造が github 上に上がる可能性があります\n",
    "import warnings\n",
    "warnings.simplefilter(action='ignore', category=FutureWarning)\n",
    "warnings.simplefilter(action='ignore', category=DeprecationWarning)\n",
    "# すべての warning を無視する場合，これでも解決しない場合は該当の cell を再実行すると消えるはずです．\n",
    "# import warnings\n",
    "# warnings.filterwarnings('ignore')\n",
    "# warnings.simplefilter('ignore')\\"
   ]
  },
  {
   "cell_type": "code",
   "execution_count": 2,
   "metadata": {
    "colab": {},
    "colab_type": "code",
    "id": "vBzPjQG_-fvD"
   },
   "outputs": [],
   "source": [
    "import matplotlib.pyplot as plt\n",
    "%matplotlib inline\n",
    "import numpy as np\n",
    "import pandas as pd\n",
    "import random\n",
    "import seaborn as sns\n",
    "from sklearn.linear_model import Ridge\n",
    "from sklearn.svm import SVC, SVR\n",
    "from sklearn.model_selection import train_test_split, cross_val_score, KFold\n",
    "from sklearn.metrics import mean_squared_error, accuracy_score, make_scorer"
   ]
  },
  {
   "cell_type": "code",
   "execution_count": 3,
   "metadata": {},
   "outputs": [],
   "source": [
    "random.seed(0)\n",
    "np.random.seed(0)"
   ]
  },
  {
   "cell_type": "markdown",
   "metadata": {
    "colab_type": "text",
    "id": "IfVy4l_U-fvH"
   },
   "source": [
    "Input variables (based on physicochemical tests):\n",
    "\n",
    "- fixed acidity1, 2\n",
    "- volatile acidity\n",
    "- citric acid\n",
    "- residual sugar\n",
    "- chlorides\n",
    "- free sulfur dioxide\n",
    "- total sulfur dioxide\n",
    "- density\n",
    "- pH1, 2\n",
    "- color intensity\n",
    "- sulphates\n",
    "- alcohol, 2\n",
    "\n",
    "Output variable (based on sensory data):\n",
    "- quality (score between 0 and 10)"
   ]
  },
  {
   "cell_type": "code",
   "execution_count": 4,
   "metadata": {
    "colab": {},
    "colab_type": "code",
    "id": "r6ZCEibK-fvI",
    "outputId": "3efa1eea-2d8f-4c54-8fa1-eea19c3a8418"
   },
   "outputs": [
    {
     "name": "stdout",
     "output_type": "stream",
     "text": [
      "(1599, 16)\n"
     ]
    },
    {
     "data": {
      "text/html": [
       "<div>\n",
       "<style scoped>\n",
       "    .dataframe tbody tr th:only-of-type {\n",
       "        vertical-align: middle;\n",
       "    }\n",
       "\n",
       "    .dataframe tbody tr th {\n",
       "        vertical-align: top;\n",
       "    }\n",
       "\n",
       "    .dataframe thead th {\n",
       "        text-align: right;\n",
       "    }\n",
       "</style>\n",
       "<table border=\"1\" class=\"dataframe\">\n",
       "  <thead>\n",
       "    <tr style=\"text-align: right;\">\n",
       "      <th></th>\n",
       "      <th>alcohol</th>\n",
       "      <th>alcohol2</th>\n",
       "      <th>chlorides</th>\n",
       "      <th>citric acid</th>\n",
       "      <th>color intensity</th>\n",
       "      <th>density</th>\n",
       "      <th>fixed acidity</th>\n",
       "      <th>fixed acidity2</th>\n",
       "      <th>free sulfur dioxide</th>\n",
       "      <th>pH1</th>\n",
       "      <th>pH2</th>\n",
       "      <th>quality</th>\n",
       "      <th>residual sugar</th>\n",
       "      <th>sulphates</th>\n",
       "      <th>total sulfur dioxide</th>\n",
       "      <th>volatile acidity</th>\n",
       "    </tr>\n",
       "  </thead>\n",
       "  <tbody>\n",
       "    <tr>\n",
       "      <th>0</th>\n",
       "      <td>9.4</td>\n",
       "      <td>9.439316</td>\n",
       "      <td>0.076</td>\n",
       "      <td>0.00</td>\n",
       "      <td>0.773702</td>\n",
       "      <td>0.9978</td>\n",
       "      <td>2.040854</td>\n",
       "      <td>7.4</td>\n",
       "      <td>11.0</td>\n",
       "      <td>3.51</td>\n",
       "      <td>10.49</td>\n",
       "      <td>5</td>\n",
       "      <td>1.9</td>\n",
       "      <td>0.56</td>\n",
       "      <td>34.0</td>\n",
       "      <td>0.70</td>\n",
       "    </tr>\n",
       "    <tr>\n",
       "      <th>1</th>\n",
       "      <td>9.8</td>\n",
       "      <td>9.536271</td>\n",
       "      <td>0.098</td>\n",
       "      <td>0.00</td>\n",
       "      <td>0.554324</td>\n",
       "      <td>0.9968</td>\n",
       "      <td>12.107711</td>\n",
       "      <td>7.8</td>\n",
       "      <td>25.0</td>\n",
       "      <td>3.20</td>\n",
       "      <td>10.80</td>\n",
       "      <td>5</td>\n",
       "      <td>2.6</td>\n",
       "      <td>0.68</td>\n",
       "      <td>67.0</td>\n",
       "      <td>0.88</td>\n",
       "    </tr>\n",
       "    <tr>\n",
       "      <th>2</th>\n",
       "      <td>9.8</td>\n",
       "      <td>9.399997</td>\n",
       "      <td>0.092</td>\n",
       "      <td>0.04</td>\n",
       "      <td>0.647387</td>\n",
       "      <td>0.9970</td>\n",
       "      <td>6.301084</td>\n",
       "      <td>7.8</td>\n",
       "      <td>15.0</td>\n",
       "      <td>3.26</td>\n",
       "      <td>10.74</td>\n",
       "      <td>5</td>\n",
       "      <td>2.3</td>\n",
       "      <td>0.65</td>\n",
       "      <td>54.0</td>\n",
       "      <td>0.76</td>\n",
       "    </tr>\n",
       "    <tr>\n",
       "      <th>3</th>\n",
       "      <td>9.8</td>\n",
       "      <td>9.910335</td>\n",
       "      <td>0.075</td>\n",
       "      <td>0.56</td>\n",
       "      <td>0.850400</td>\n",
       "      <td>0.9980</td>\n",
       "      <td>1.139631</td>\n",
       "      <td>11.2</td>\n",
       "      <td>17.0</td>\n",
       "      <td>3.16</td>\n",
       "      <td>10.84</td>\n",
       "      <td>6</td>\n",
       "      <td>1.9</td>\n",
       "      <td>0.58</td>\n",
       "      <td>60.0</td>\n",
       "      <td>0.28</td>\n",
       "    </tr>\n",
       "    <tr>\n",
       "      <th>4</th>\n",
       "      <td>9.4</td>\n",
       "      <td>8.983530</td>\n",
       "      <td>0.076</td>\n",
       "      <td>0.00</td>\n",
       "      <td>0.790350</td>\n",
       "      <td>0.9978</td>\n",
       "      <td>-0.815498</td>\n",
       "      <td>7.4</td>\n",
       "      <td>11.0</td>\n",
       "      <td>3.51</td>\n",
       "      <td>10.49</td>\n",
       "      <td>5</td>\n",
       "      <td>1.9</td>\n",
       "      <td>0.56</td>\n",
       "      <td>34.0</td>\n",
       "      <td>0.70</td>\n",
       "    </tr>\n",
       "  </tbody>\n",
       "</table>\n",
       "</div>"
      ],
      "text/plain": [
       "   alcohol  alcohol2  chlorides  citric acid  color intensity  density  \\\n",
       "0      9.4  9.439316      0.076         0.00         0.773702   0.9978   \n",
       "1      9.8  9.536271      0.098         0.00         0.554324   0.9968   \n",
       "2      9.8  9.399997      0.092         0.04         0.647387   0.9970   \n",
       "3      9.8  9.910335      0.075         0.56         0.850400   0.9980   \n",
       "4      9.4  8.983530      0.076         0.00         0.790350   0.9978   \n",
       "\n",
       "   fixed acidity  fixed acidity2  free sulfur dioxide   pH1    pH2  quality  \\\n",
       "0       2.040854             7.4                 11.0  3.51  10.49        5   \n",
       "1      12.107711             7.8                 25.0  3.20  10.80        5   \n",
       "2       6.301084             7.8                 15.0  3.26  10.74        5   \n",
       "3       1.139631            11.2                 17.0  3.16  10.84        6   \n",
       "4      -0.815498             7.4                 11.0  3.51  10.49        5   \n",
       "\n",
       "   residual sugar  sulphates  total sulfur dioxide  volatile acidity  \n",
       "0             1.9       0.56                  34.0              0.70  \n",
       "1             2.6       0.68                  67.0              0.88  \n",
       "2             2.3       0.65                  54.0              0.76  \n",
       "3             1.9       0.58                  60.0              0.28  \n",
       "4             1.9       0.56                  34.0              0.70  "
      ]
     },
     "execution_count": 4,
     "metadata": {},
     "output_type": "execute_result"
    }
   ],
   "source": [
    "wine_quality_df = pd.read_csv(\"wine_quality_noise.csv\")\n",
    "print(wine_quality_df.shape)\n",
    "wine_quality_df.head()"
   ]
  },
  {
   "cell_type": "code",
   "execution_count": 5,
   "metadata": {},
   "outputs": [
    {
     "data": {
      "text/plain": [
       "alcohol                 float64\n",
       "alcohol2                float64\n",
       "chlorides               float64\n",
       "citric acid             float64\n",
       "color intensity         float64\n",
       "density                 float64\n",
       "fixed acidity           float64\n",
       "fixed acidity2          float64\n",
       "free sulfur dioxide     float64\n",
       "pH1                     float64\n",
       "pH2                     float64\n",
       "quality                   int64\n",
       "residual sugar          float64\n",
       "sulphates               float64\n",
       "total sulfur dioxide    float64\n",
       "volatile acidity        float64\n",
       "dtype: object"
      ]
     },
     "execution_count": 5,
     "metadata": {},
     "output_type": "execute_result"
    }
   ],
   "source": [
    "wine_quality_df.dtypes"
   ]
  },
  {
   "cell_type": "code",
   "execution_count": 6,
   "metadata": {
    "colab": {},
    "colab_type": "code",
    "id": "5oGbMiWE-fvN",
    "outputId": "0c95a96f-ccda-4546-c076-4dac52e88a09"
   },
   "outputs": [
    {
     "data": {
      "text/html": [
       "<div>\n",
       "<style scoped>\n",
       "    .dataframe tbody tr th:only-of-type {\n",
       "        vertical-align: middle;\n",
       "    }\n",
       "\n",
       "    .dataframe tbody tr th {\n",
       "        vertical-align: top;\n",
       "    }\n",
       "\n",
       "    .dataframe thead th {\n",
       "        text-align: right;\n",
       "    }\n",
       "</style>\n",
       "<table border=\"1\" class=\"dataframe\">\n",
       "  <thead>\n",
       "    <tr style=\"text-align: right;\">\n",
       "      <th></th>\n",
       "      <th>alcohol</th>\n",
       "      <th>alcohol2</th>\n",
       "      <th>chlorides</th>\n",
       "      <th>citric acid</th>\n",
       "      <th>color intensity</th>\n",
       "      <th>density</th>\n",
       "      <th>fixed acidity</th>\n",
       "      <th>fixed acidity2</th>\n",
       "      <th>free sulfur dioxide</th>\n",
       "      <th>pH1</th>\n",
       "      <th>pH2</th>\n",
       "      <th>quality</th>\n",
       "      <th>residual sugar</th>\n",
       "      <th>sulphates</th>\n",
       "      <th>total sulfur dioxide</th>\n",
       "      <th>volatile acidity</th>\n",
       "    </tr>\n",
       "  </thead>\n",
       "  <tbody>\n",
       "    <tr>\n",
       "      <th>count</th>\n",
       "      <td>1599.000000</td>\n",
       "      <td>1599.000000</td>\n",
       "      <td>1599.000000</td>\n",
       "      <td>1599.000000</td>\n",
       "      <td>1599.000000</td>\n",
       "      <td>1599.000000</td>\n",
       "      <td>1599.000000</td>\n",
       "      <td>1599.000000</td>\n",
       "      <td>1599.000000</td>\n",
       "      <td>1599.000000</td>\n",
       "      <td>1599.000000</td>\n",
       "      <td>1599.000000</td>\n",
       "      <td>1599.000000</td>\n",
       "      <td>1599.000000</td>\n",
       "      <td>1599.000000</td>\n",
       "      <td>1599.000000</td>\n",
       "    </tr>\n",
       "    <tr>\n",
       "      <th>mean</th>\n",
       "      <td>10.422983</td>\n",
       "      <td>10.422622</td>\n",
       "      <td>0.087467</td>\n",
       "      <td>0.270976</td>\n",
       "      <td>0.487514</td>\n",
       "      <td>0.996747</td>\n",
       "      <td>7.877670</td>\n",
       "      <td>8.319637</td>\n",
       "      <td>15.874922</td>\n",
       "      <td>3.311113</td>\n",
       "      <td>10.688887</td>\n",
       "      <td>5.636023</td>\n",
       "      <td>2.538806</td>\n",
       "      <td>0.658149</td>\n",
       "      <td>46.467792</td>\n",
       "      <td>0.527821</td>\n",
       "    </tr>\n",
       "    <tr>\n",
       "      <th>std</th>\n",
       "      <td>1.065668</td>\n",
       "      <td>1.110855</td>\n",
       "      <td>0.047065</td>\n",
       "      <td>0.194801</td>\n",
       "      <td>0.157708</td>\n",
       "      <td>0.001887</td>\n",
       "      <td>9.858849</td>\n",
       "      <td>1.741096</td>\n",
       "      <td>10.460157</td>\n",
       "      <td>0.154386</td>\n",
       "      <td>0.154386</td>\n",
       "      <td>0.807569</td>\n",
       "      <td>1.409928</td>\n",
       "      <td>0.169507</td>\n",
       "      <td>32.895324</td>\n",
       "      <td>0.179060</td>\n",
       "    </tr>\n",
       "    <tr>\n",
       "      <th>min</th>\n",
       "      <td>8.400000</td>\n",
       "      <td>8.232370</td>\n",
       "      <td>0.012000</td>\n",
       "      <td>0.000000</td>\n",
       "      <td>0.000000</td>\n",
       "      <td>0.990070</td>\n",
       "      <td>-24.368566</td>\n",
       "      <td>4.600000</td>\n",
       "      <td>1.000000</td>\n",
       "      <td>2.740000</td>\n",
       "      <td>9.990000</td>\n",
       "      <td>3.000000</td>\n",
       "      <td>0.900000</td>\n",
       "      <td>0.330000</td>\n",
       "      <td>6.000000</td>\n",
       "      <td>0.120000</td>\n",
       "    </tr>\n",
       "    <tr>\n",
       "      <th>25%</th>\n",
       "      <td>9.500000</td>\n",
       "      <td>9.570963</td>\n",
       "      <td>0.070000</td>\n",
       "      <td>0.090000</td>\n",
       "      <td>0.380724</td>\n",
       "      <td>0.995600</td>\n",
       "      <td>0.892154</td>\n",
       "      <td>7.100000</td>\n",
       "      <td>7.000000</td>\n",
       "      <td>3.210000</td>\n",
       "      <td>10.600000</td>\n",
       "      <td>5.000000</td>\n",
       "      <td>1.900000</td>\n",
       "      <td>0.550000</td>\n",
       "      <td>22.000000</td>\n",
       "      <td>0.390000</td>\n",
       "    </tr>\n",
       "    <tr>\n",
       "      <th>50%</th>\n",
       "      <td>10.200000</td>\n",
       "      <td>10.191857</td>\n",
       "      <td>0.079000</td>\n",
       "      <td>0.260000</td>\n",
       "      <td>0.486193</td>\n",
       "      <td>0.996750</td>\n",
       "      <td>7.684445</td>\n",
       "      <td>7.900000</td>\n",
       "      <td>14.000000</td>\n",
       "      <td>3.310000</td>\n",
       "      <td>10.690000</td>\n",
       "      <td>6.000000</td>\n",
       "      <td>2.200000</td>\n",
       "      <td>0.620000</td>\n",
       "      <td>38.000000</td>\n",
       "      <td>0.520000</td>\n",
       "    </tr>\n",
       "    <tr>\n",
       "      <th>75%</th>\n",
       "      <td>11.100000</td>\n",
       "      <td>11.140724</td>\n",
       "      <td>0.090000</td>\n",
       "      <td>0.420000</td>\n",
       "      <td>0.590375</td>\n",
       "      <td>0.997835</td>\n",
       "      <td>14.510449</td>\n",
       "      <td>9.200000</td>\n",
       "      <td>21.000000</td>\n",
       "      <td>3.400000</td>\n",
       "      <td>10.790000</td>\n",
       "      <td>6.000000</td>\n",
       "      <td>2.600000</td>\n",
       "      <td>0.730000</td>\n",
       "      <td>62.000000</td>\n",
       "      <td>0.640000</td>\n",
       "    </tr>\n",
       "    <tr>\n",
       "      <th>max</th>\n",
       "      <td>14.900000</td>\n",
       "      <td>14.554818</td>\n",
       "      <td>0.611000</td>\n",
       "      <td>1.000000</td>\n",
       "      <td>1.000000</td>\n",
       "      <td>1.003690</td>\n",
       "      <td>44.616602</td>\n",
       "      <td>15.900000</td>\n",
       "      <td>72.000000</td>\n",
       "      <td>4.010000</td>\n",
       "      <td>11.260000</td>\n",
       "      <td>8.000000</td>\n",
       "      <td>15.500000</td>\n",
       "      <td>2.000000</td>\n",
       "      <td>289.000000</td>\n",
       "      <td>1.580000</td>\n",
       "    </tr>\n",
       "  </tbody>\n",
       "</table>\n",
       "</div>"
      ],
      "text/plain": [
       "           alcohol     alcohol2    chlorides  citric acid  color intensity  \\\n",
       "count  1599.000000  1599.000000  1599.000000  1599.000000      1599.000000   \n",
       "mean     10.422983    10.422622     0.087467     0.270976         0.487514   \n",
       "std       1.065668     1.110855     0.047065     0.194801         0.157708   \n",
       "min       8.400000     8.232370     0.012000     0.000000         0.000000   \n",
       "25%       9.500000     9.570963     0.070000     0.090000         0.380724   \n",
       "50%      10.200000    10.191857     0.079000     0.260000         0.486193   \n",
       "75%      11.100000    11.140724     0.090000     0.420000         0.590375   \n",
       "max      14.900000    14.554818     0.611000     1.000000         1.000000   \n",
       "\n",
       "           density  fixed acidity  fixed acidity2  free sulfur dioxide  \\\n",
       "count  1599.000000    1599.000000     1599.000000          1599.000000   \n",
       "mean      0.996747       7.877670        8.319637            15.874922   \n",
       "std       0.001887       9.858849        1.741096            10.460157   \n",
       "min       0.990070     -24.368566        4.600000             1.000000   \n",
       "25%       0.995600       0.892154        7.100000             7.000000   \n",
       "50%       0.996750       7.684445        7.900000            14.000000   \n",
       "75%       0.997835      14.510449        9.200000            21.000000   \n",
       "max       1.003690      44.616602       15.900000            72.000000   \n",
       "\n",
       "               pH1          pH2      quality  residual sugar    sulphates  \\\n",
       "count  1599.000000  1599.000000  1599.000000     1599.000000  1599.000000   \n",
       "mean      3.311113    10.688887     5.636023        2.538806     0.658149   \n",
       "std       0.154386     0.154386     0.807569        1.409928     0.169507   \n",
       "min       2.740000     9.990000     3.000000        0.900000     0.330000   \n",
       "25%       3.210000    10.600000     5.000000        1.900000     0.550000   \n",
       "50%       3.310000    10.690000     6.000000        2.200000     0.620000   \n",
       "75%       3.400000    10.790000     6.000000        2.600000     0.730000   \n",
       "max       4.010000    11.260000     8.000000       15.500000     2.000000   \n",
       "\n",
       "       total sulfur dioxide  volatile acidity  \n",
       "count           1599.000000       1599.000000  \n",
       "mean              46.467792          0.527821  \n",
       "std               32.895324          0.179060  \n",
       "min                6.000000          0.120000  \n",
       "25%               22.000000          0.390000  \n",
       "50%               38.000000          0.520000  \n",
       "75%               62.000000          0.640000  \n",
       "max              289.000000          1.580000  "
      ]
     },
     "execution_count": 6,
     "metadata": {},
     "output_type": "execute_result"
    }
   ],
   "source": [
    "wine_quality_df.describe()"
   ]
  },
  {
   "cell_type": "code",
   "execution_count": 7,
   "metadata": {
    "colab": {},
    "colab_type": "code",
    "id": "TUwfdQuA-fvP"
   },
   "outputs": [],
   "source": [
    "feature_names = list(np.copy(wine_quality_df.columns))\n",
    "feature_names.remove(\"quality\")"
   ]
  },
  {
   "cell_type": "code",
   "execution_count": 8,
   "metadata": {
    "colab": {},
    "colab_type": "code",
    "id": "4E2fef-p-fvS",
    "outputId": "ca4ad5b1-1d11-4706-a60c-1747722024bb"
   },
   "outputs": [
    {
     "data": {
      "text/plain": [
       "((1119, 15), (480, 15))"
      ]
     },
     "execution_count": 8,
     "metadata": {},
     "output_type": "execute_result"
    }
   ],
   "source": [
    "X_train, X_test, y_train, y_test = \\\n",
    "    train_test_split(wine_quality_df[feature_names], wine_quality_df[\"quality\"], \n",
    "                     test_size=0.3, random_state=0)\n",
    "X_train.shape, X_test.shape"
   ]
  },
  {
   "cell_type": "markdown",
   "metadata": {
    "colab_type": "text",
    "id": "NqU9qRJX-fvV"
   },
   "source": [
    "## 注意\n",
    "ここで，test score まで同時に出してしまっているんですが，1つの関数で実行してしまう方が楽だったという理由だけで，これらは分けた方が良いです．\n",
    "パラメータや特徴量について考えるときには，CV だけで調整すべきです"
   ]
  },
  {
   "cell_type": "code",
   "execution_count": 9,
   "metadata": {
    "colab": {},
    "colab_type": "code",
    "id": "ckJB74wq-fvW"
   },
   "outputs": [],
   "source": [
    "kfold = KFold(n_splits=5, random_state=0)\n",
    "def cross_validation(model, test=True, method=\"reg\"):\n",
    "    global X_train, X_test, y_train, y_test, feature_names\n",
    "    evaluation_method = mean_squared_error if method == \"reg\" else accuracy_score\n",
    "    scores = cross_val_score(model, X_train[feature_names], y_train, cv=kfold, \n",
    "                             scoring=make_scorer(evaluation_method))\n",
    "    # 各分割におけるスコア\n",
    "    print('Cross-Validation scores: {}'.format(scores))\n",
    "    # スコアの平均値\n",
    "    print('Average score: {}'.format(np.mean(scores)))\n",
    "    if test:\n",
    "        model.fit(X_train[feature_names], y_train)\n",
    "        pred = model.predict(X_test[feature_names])\n",
    "        print('Test score: {}'.format(evaluation_method(y_test, pred)))"
   ]
  },
  {
   "cell_type": "markdown",
   "metadata": {
    "colab_type": "text",
    "id": "Rs7br3kB-fvZ"
   },
   "source": [
    "# モデルによる予測"
   ]
  },
  {
   "cell_type": "code",
   "execution_count": 10,
   "metadata": {
    "colab": {},
    "colab_type": "code",
    "id": "k0WPrpMP-fva",
    "outputId": "83d357b8-2979-4f33-9b9b-c1ef93548beb"
   },
   "outputs": [
    {
     "name": "stdout",
     "output_type": "stream",
     "text": [
      "Cross-Validation scores: [0.48873469 0.4972921  0.43186159 0.42859749 0.36981067]\n",
      "Average score: 0.4432593072010188\n",
      "Test score: 0.4013760723024126\n"
     ]
    }
   ],
   "source": [
    "linear_reg = Ridge(random_state=0)\n",
    "cross_validation(linear_reg)"
   ]
  },
  {
   "cell_type": "code",
   "execution_count": 11,
   "metadata": {
    "colab": {},
    "colab_type": "code",
    "id": "zj29pAd5-fvg",
    "outputId": "c621fdee-75bb-4703-c483-97be2d1fbeec"
   },
   "outputs": [
    {
     "name": "stdout",
     "output_type": "stream",
     "text": [
      "Cross-Validation scores: [0.63541597 0.68327096 0.58850596 0.59033828 0.50432621]\n",
      "Average score: 0.6003714763595538\n",
      "Test score: 0.554464275505919\n"
     ]
    }
   ],
   "source": [
    "svm_reg = SVR(kernel=\"rbf\")\n",
    "cross_validation(svm_reg)"
   ]
  },
  {
   "cell_type": "code",
   "execution_count": 12,
   "metadata": {
    "colab": {},
    "colab_type": "code",
    "id": "20atf6ZS-fvd",
    "outputId": "25a34978-bdf8-463c-c775-3bc8b52a2668"
   },
   "outputs": [
    {
     "name": "stdout",
     "output_type": "stream",
     "text": [
      "Cross-Validation scores: [0.52232143 0.44642857 0.50446429 0.44196429 0.47085202]\n",
      "Average score: 0.47720611787315814\n",
      "Test score: 0.48125\n"
     ]
    }
   ],
   "source": [
    "svm_clf = SVC(kernel=\"rbf\", random_state=0)\n",
    "cross_validation(svm_clf, method=\"clf\")"
   ]
  },
  {
   "cell_type": "markdown",
   "metadata": {
    "colab_type": "text",
    "id": "LNY5WDB7-fvi"
   },
   "source": [
    "# 以降にコードを追加"
   ]
  },
  {
   "cell_type": "code",
   "execution_count": 0,
   "metadata": {
    "colab": {},
    "colab_type": "code",
    "id": "B8xch8PW-fvj"
   },
   "outputs": [],
   "source": []
  }
 ],
 "metadata": {
  "colab": {
   "collapsed_sections": [],
   "name": "第6回課題.ipynb",
   "provenance": []
  },
  "kernelspec": {
   "display_name": "Python 3",
   "language": "python",
   "name": "python3"
  },
  "language_info": {
   "codemirror_mode": {
    "name": "ipython",
    "version": 3
   },
   "file_extension": ".py",
   "mimetype": "text/x-python",
   "name": "python",
   "nbconvert_exporter": "python",
   "pygments_lexer": "ipython3",
   "version": "3.8.5"
  }
 },
 "nbformat": 4,
 "nbformat_minor": 1
}
